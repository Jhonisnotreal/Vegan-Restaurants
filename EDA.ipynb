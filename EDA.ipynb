{
 "cells": [
  {
   "cell_type": "markdown",
   "metadata": {},
   "source": [
    "# Importing Libraries"
   ]
  },
  {
   "cell_type": "code",
   "execution_count": 1,
   "metadata": {},
   "outputs": [],
   "source": [
    "import pandas as pd \n",
    "import numpy as np \n",
    "import matplotlib.pyplot as plt"
   ]
  },
  {
   "cell_type": "markdown",
   "metadata": {},
   "source": [
    "# Reading Data"
   ]
  },
  {
   "cell_type": "code",
   "execution_count": 2,
   "metadata": {},
   "outputs": [],
   "source": [
    "Vegan = pd.read_csv(\"Dataset/Datafiniti_Vegetarian_and_Vegan_Restaurants.csv\")"
   ]
  },
  {
   "cell_type": "code",
   "execution_count": 3,
   "metadata": {},
   "outputs": [
    {
     "name": "stdout",
     "output_type": "stream",
     "text": [
      "(10000, 47)\n",
      "Index(['id', 'dateAdded', 'dateUpdated', 'address', 'categories',\n",
      "       'primaryCategories', 'city', 'claimed', 'country', 'cuisines',\n",
      "       'descriptions.dateSeen', 'descriptions.sourceURLs',\n",
      "       'descriptions.value', 'facebookPageURL', 'features.key',\n",
      "       'features.value', 'hours.day', 'hours.dept', 'hours.hour', 'imageURLs',\n",
      "       'isClosed', 'keys', 'languagesSpoken', 'latitude', 'longitude',\n",
      "       'menuPageURL', 'menus.amountMax', 'menus.amountMin', 'menus.category',\n",
      "       'menus.currency', 'menus.dateSeen', 'menus.description', 'menus.name',\n",
      "       'menus.sourceURLs', 'name', 'paymentTypes', 'phones', 'postalCode',\n",
      "       'priceRangeCurrency', 'priceRangeMin', 'priceRangeMax', 'province',\n",
      "       'sic', 'sourceURLs', 'twitter', 'websites', 'yearOpened'],\n",
      "      dtype='object')\n"
     ]
    }
   ],
   "source": [
    "print(Vegan.shape)\n",
    "print(Vegan.columns)"
   ]
  },
  {
   "cell_type": "code",
   "execution_count": 4,
   "metadata": {},
   "outputs": [
    {
     "name": "stdout",
     "output_type": "stream",
     "text": [
      "<class 'pandas.core.frame.DataFrame'>\n",
      "RangeIndex: 10000 entries, 0 to 9999\n",
      "Data columns (total 47 columns):\n",
      " #   Column                   Non-Null Count  Dtype  \n",
      "---  ------                   --------------  -----  \n",
      " 0   id                       10000 non-null  object \n",
      " 1   dateAdded                10000 non-null  object \n",
      " 2   dateUpdated              10000 non-null  object \n",
      " 3   address                  10000 non-null  object \n",
      " 4   categories               10000 non-null  object \n",
      " 5   primaryCategories        10000 non-null  object \n",
      " 6   city                     10000 non-null  object \n",
      " 7   claimed                  689 non-null    object \n",
      " 8   country                  10000 non-null  object \n",
      " 9   cuisines                 10000 non-null  object \n",
      " 10  descriptions.dateSeen    0 non-null      float64\n",
      " 11  descriptions.sourceURLs  0 non-null      float64\n",
      " 12  descriptions.value       0 non-null      float64\n",
      " 13  facebookPageURL          937 non-null    object \n",
      " 14  features.key             0 non-null      float64\n",
      " 15  features.value           0 non-null      float64\n",
      " 16  hours.day                0 non-null      float64\n",
      " 17  hours.dept               0 non-null      float64\n",
      " 18  hours.hour               0 non-null      float64\n",
      " 19  imageURLs                5134 non-null   object \n",
      " 20  isClosed                 37 non-null     object \n",
      " 21  keys                     10000 non-null  object \n",
      " 22  languagesSpoken          0 non-null      float64\n",
      " 23  latitude                 10000 non-null  float64\n",
      " 24  longitude                10000 non-null  float64\n",
      " 25  menuPageURL              10000 non-null  object \n",
      " 26  menus.amountMax          10000 non-null  float64\n",
      " 27  menus.amountMin          10000 non-null  float64\n",
      " 28  menus.category           5930 non-null   object \n",
      " 29  menus.currency           9947 non-null   object \n",
      " 30  menus.dateSeen           10000 non-null  object \n",
      " 31  menus.description        3987 non-null   object \n",
      " 32  menus.name               10000 non-null  object \n",
      " 33  menus.sourceURLs         10000 non-null  object \n",
      " 34  name                     10000 non-null  object \n",
      " 35  paymentTypes             3873 non-null   object \n",
      " 36  phones                   10000 non-null  object \n",
      " 37  postalCode               10000 non-null  object \n",
      " 38  priceRangeCurrency       6327 non-null   object \n",
      " 39  priceRangeMin            6327 non-null   float64\n",
      " 40  priceRangeMax            6327 non-null   float64\n",
      " 41  province                 10000 non-null  object \n",
      " 42  sic                      140 non-null    float64\n",
      " 43  sourceURLs               10000 non-null  object \n",
      " 44  twitter                  1958 non-null   object \n",
      " 45  websites                 8183 non-null   object \n",
      " 46  yearOpened               91 non-null     float64\n",
      "dtypes: float64(17), object(30)\n",
      "memory usage: 3.6+ MB\n"
     ]
    }
   ],
   "source": [
    "Vegan.info()"
   ]
  },
  {
   "cell_type": "markdown",
   "metadata": {},
   "source": [
    "# Nulls"
   ]
  },
  {
   "cell_type": "markdown",
   "metadata": {},
   "source": [
    "# Outliers"
   ]
  },
  {
   "cell_type": "markdown",
   "metadata": {},
   "source": [
    "# Duplicated Values"
   ]
  },
  {
   "cell_type": "markdown",
   "metadata": {},
   "source": [
    "# Graphs"
   ]
  }
 ],
 "metadata": {
  "kernelspec": {
   "display_name": "Python 3",
   "language": "python",
   "name": "python3"
  },
  "language_info": {
   "codemirror_mode": {
    "name": "ipython",
    "version": 3
   },
   "file_extension": ".py",
   "mimetype": "text/x-python",
   "name": "python",
   "nbconvert_exporter": "python",
   "pygments_lexer": "ipython3",
   "version": "3.11.5"
  }
 },
 "nbformat": 4,
 "nbformat_minor": 2
}
